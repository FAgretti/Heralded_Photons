{
 "cells": [
  {
   "cell_type": "markdown",
   "metadata": {},
   "source": [
    "<h3> Simulación de pocos fotones de la NLSE </h3>\n",
    "El objetivo es simular el circuito completo de generacion y detección de pares de fotones heraldos utilizando componentes reales\n",
    "\n",
    "Para eso necesitaremos una ampliación del modelo de NLSE para régimen cuántico"
   ]
  },
  {
   "cell_type": "code",
   "execution_count": 8,
   "metadata": {},
   "outputs": [
    {
     "name": "stdout",
     "output_type": "stream",
     "text": [
      "0 de 10\n",
      "1 de 10\n",
      "2 de 10\n",
      "3 de 10\n",
      "4 de 10\n",
      "5 de 10\n",
      "6 de 10\n",
      "7 de 10\n",
      "8 de 10\n",
      "9 de 10\n"
     ]
    },
    {
     "data": {
      "image/png": "[encoded data removed]",
      "text/plain": [
       "<Figure size 640x480 with 2 Axes>"
      ]
     },
     "metadata": {},
     "output_type": "display_data"
    },
    {
     "name": "stdout",
     "output_type": "stream",
     "text": [
      "0.0\n"
     ]
    }
   ],
   "source": [
    "import cupy as cp\n",
    "import matplotlib.pyplot as plt\n",
    "import numpy as np\n",
    "from Dispositivos import BeamSplitter, Filtro, APD, coincidencias_temporales, coincidencias_dobles_y_triples\n",
    "\n",
    "# Parámetros de simulación\n",
    "#Cuanto dura un bin?? 1ms\n",
    "timestep = 1 #ns\n",
    "Bins = 50000\n",
    "DuracionTotal = Bins*timestep\n",
    "Average_Pairs_Per_Bin = 0.01  # Ahora puede haber más de un par por bin\n",
    "ventana = 1\n",
    "\n",
    "\n",
    "VecFotones = []\n",
    "\n",
    "# Generación de fotones (solo pares)\n",
    "for _ in range(Bins):\n",
    "    num_pairs = cp.random.poisson(Average_Pairs_Per_Bin).item()\n",
    "    if num_pairs > 0:\n",
    "        tiempos = cp.random.randint(1,DuracionTotal, size=num_pairs)\n",
    "        tiempos = cp.repeat(tiempos, 2)\n",
    "        longitudes = cp.tile(cp.array([100, 300]), num_pairs)\n",
    "        VecFotones.append(cp.column_stack((tiempos, longitudes)))\n",
    "\n",
    "# Paso a device\n",
    "VecFotones = cp.concatenate(VecFotones, axis=0) if VecFotones else cp.empty((0, 2), dtype=int)\n",
    "\n",
    "# Rangos\n",
    "eficiencias = cp.linspace(1, 0.3, 10)\n",
    "osc = cp.linspace(0,0.01,10)\n",
    "\n",
    "# Inicialización de resultados\n",
    "N12 = cp.zeros((len(eficiencias), len(osc)), dtype=int)\n",
    "N13 = cp.zeros((len(eficiencias), len(osc)), dtype=int)\n",
    "N123 = cp.zeros((len(eficiencias), len(osc)), dtype=int)\n",
    "N1 = cp.zeros((len(eficiencias), len(osc)), dtype=int)\n",
    "g2 = cp.ones((len(eficiencias), len(osc)))\n",
    "\n",
    "# Dispositivos\n",
    "BS = BeamSplitter(0.5)\n",
    "FiltroS = Filtro(F1=50, F2=200)\n",
    "FiltroI = Filtro(F1=150, F2=300)\n",
    "\n",
    "# Simulación\n",
    "for eff_idx, eff in enumerate(eficiencias):\n",
    "    print(eff_idx, \"de\", len(eficiencias))\n",
    "    for k_idx, k in enumerate(osc):\n",
    "        dark = k\n",
    "        detector = APD(eff, dark)\n",
    "\n",
    "        # Primer divisor\n",
    "        a, b = BS.Dividir(VecFotones)\n",
    "\n",
    "        # Filtros\n",
    "        camino1 = FiltroS.Filtrar(a)\n",
    "        camino2 = FiltroI.Filtrar(b)\n",
    "\n",
    "        # Segundo divisor (solo a camino2)\n",
    "        c, d = BS.Dividir(camino2)\n",
    "\n",
    "        # Detección\n",
    "        t1 = detector.Detectar(camino1, DuracionTotal)\n",
    "        t2 = detector.Detectar(c, DuracionTotal)\n",
    "        t3 = detector.Detectar(d, DuracionTotal)\n",
    "\n",
    "        # Coincidencias\n",
    "        N12[eff_idx, k_idx], N13[eff_idx, k_idx], N123[eff_idx, k_idx] = cp.array(\n",
    "            coincidencias_dobles_y_triples(t1, t2, t3, ventana)\n",
    "        )\n",
    "\n",
    "        # N1 como número de tiempos únicos de detección en APD1\n",
    "        N1[eff_idx, k_idx] = cp.unique(t1).size\n",
    "\n",
    "        # g2\n",
    "        valid = (N12[eff_idx, k_idx] > 0) & (N13[eff_idx, k_idx] > 0)\n",
    "        g2[eff_idx, k_idx] = cp.where(\n",
    "            valid,\n",
    "            N1[eff_idx, k_idx] * N123[eff_idx, k_idx] / (N12[eff_idx, k_idx] * N13[eff_idx, k_idx]),\n",
    "            0\n",
    "        )\n",
    "    \n",
    "\n",
    "# Paso a host\n",
    "eficiencias = cp.asnumpy(eficiencias)\n",
    "osc = cp.asnumpy(osc)\n",
    "g2 = cp.asnumpy(g2)\n",
    "\n",
    "# Gráfico\n",
    "plt.imshow(g2, aspect='auto', cmap='viridis', origin='lower',\n",
    "           extent=[osc[0], osc[-1], eficiencias[-1], eficiencias[0]])\n",
    "plt.colorbar(label=\"g²(0)\")\n",
    "plt.xlabel(\"Cuentas oscuras\")\n",
    "plt.ylabel(\"Eficiencia\")\n",
    "plt.clim(0, 1)\n",
    "plt.title(\"g²(0) para fuente de pares\")\n",
    "plt.show()\n",
    "\n",
    "print(np.min(g2))"
   ]
  },
  {
   "cell_type": "code",
   "execution_count": null,
   "metadata": {},
   "outputs": [],
   "source": []
  },
  {
   "cell_type": "code",
   "execution_count": null,
   "metadata": {},
   "outputs": [
    {
     "name": "stdout",
     "output_type": "stream",
     "text": [
      "Eficiencia:  [1.         0.92222222 0.84444444 0.76666667 0.68888889 0.61111111\n",
      " 0.53333333 0.45555556 0.37777778 0.3       ]\n",
      "N12 [[ 0  1  1  7  1  2  8  3 11 11]\n",
      " [ 0  0  2  5  5  4  8  5 12 12]\n",
      " [ 0  0  4  4  3  3  7  9  8 11]\n",
      " [ 0  1  0  2  1  8  6 10 14  9]\n",
      " [ 0  0  1  2  2  7  4  7  9 20]\n",
      " [ 0  0  4  2  2  9 10  9  8 11]\n",
      " [ 0  0  3  0  3  3  6  9  9 16]\n",
      " [ 0  0  0  1  4  4  3  4 13 15]\n",
      " [ 0  0  1  0  4  4  7  7 16 12]\n",
      " [ 0  1  2  1  3  5  5 14 15 19]]\n",
      "N13 [[ 0  0  1  2  5  2  8  4 15 17]\n",
      " [ 0  0  1  3  1  3  6  9 12 23]\n",
      " [ 0  0  0  3  4  7  0 12  7 15]\n",
      " [ 0  1  1  1  2  7  8 12 14 13]\n",
      " [ 0  0  0  3  1  5  5 10  9 16]\n",
      " [ 0  2  1  1  3  7  7 11 15 13]\n",
      " [ 0  0  0  2  0  4  4 11 14 16]\n",
      " [ 0  0  1  1  2  2  8  9 13 14]\n",
      " [ 0  0  0  1  5  3 10  8 13  9]\n",
      " [ 0  0  1  3  4  1  3  9 13 14]]\n",
      "N123:  [[0 0 0 0 0 0 0 0 1 0]\n",
      " [0 0 0 0 0 0 0 0 1 0]\n",
      " [0 0 0 0 0 0 0 1 0 1]\n",
      " [0 1 0 0 0 1 1 0 0 0]\n",
      " [0 0 0 0 0 0 0 0 0 0]\n",
      " [0 0 0 0 0 0 0 0 0 0]\n",
      " [0 0 0 0 0 0 0 0 0 0]\n",
      " [0 0 0 0 0 0 0 0 2 0]\n",
      " [0 0 0 0 0 0 0 0 0 0]\n",
      " [0 0 0 0 0 0 0 0 0 1]]\n",
      "N1:  [[  1  65 122 163 190 268 353 371 437 507]\n",
      " [  1  50 140 188 213 261 341 391 480 494]\n",
      " [  2  51 123 175 213 263 323 432 450 491]\n",
      " [  1  51 119 157 207 312 323 375 462 454]\n",
      " [  2  69 112 179 222 282 315 397 429 529]\n",
      " [  1  50 113 188 214 291 346 388 464 544]\n",
      " [  1  63 131 160 215 267 334 393 484 508]\n",
      " [  1  67 100 150 214 295 333 403 435 489]\n",
      " [  1  59 107 187 232 278 335 398 443 468]\n",
      " [  1  51 106 164 209 265 297 371 440 481]]\n",
      "g2:  [[ 0.          0.          0.          0.          0.          0.\n",
      "   0.          0.          2.64848485  0.        ]\n",
      " [ 0.          0.          0.          0.          0.          0.\n",
      "   0.          0.          3.33333333  0.        ]\n",
      " [ 0.          0.          0.          0.          0.          0.\n",
      "   0.          4.          0.          2.97575758]\n",
      " [ 0.         51.          0.          0.          0.          5.57142857\n",
      "   6.72916667  0.          0.          0.        ]\n",
      " [ 0.          0.          0.          0.          0.          0.\n",
      "   0.          0.          0.          0.        ]\n",
      " [ 0.          0.          0.          0.          0.          0.\n",
      "   0.          0.          0.          0.        ]\n",
      " [ 0.          0.          0.          0.          0.          0.\n",
      "   0.          0.          0.          0.        ]\n",
      " [ 0.          0.          0.          0.          0.          0.\n",
      "   0.          0.          5.14792899  0.        ]\n",
      " [ 0.          0.          0.          0.          0.          0.\n",
      "   0.          0.          0.          0.        ]\n",
      " [ 0.          0.          0.          0.          0.          0.\n",
      "   0.          0.          0.          1.80827068]]\n"
     ]
    },
    {
     "ename": "",
     "evalue": "",
     "output_type": "error",
     "traceback": [
      "\u001b[1;31mThe Kernel crashed while executing code in the current cell or a previous cell. \n",
      "\u001b[1;31mPlease review the code in the cell(s) to identify a possible cause of the failure. \n",
      "\u001b[1;31mClick <a href='https://aka.ms/vscodeJupyterKernelCrash'>here</a> for more info. \n",
      "\u001b[1;31mView Jupyter <a href='command:jupyter.viewOutput'>log</a> for further details."
     ]
    }
   ],
   "source": [
    "print(\"Eficiencia: \",eficiencias)\n",
    "print(\"N12\",N12)\n",
    "print(\"N13\", N13)\n",
    "#print(\"Bunch: \",Bunch)\n",
    "print(\"N123: \",N123)\n",
    "print(\"N1: \",N1)\n",
    "print(\"g2: \",g2)"
   ]
  },
  {
   "cell_type": "code",
   "execution_count": null,
   "metadata": {},
   "outputs": [],
   "source": []
  },
  {
   "cell_type": "code",
   "execution_count": null,
   "metadata": {},
   "outputs": [
    {
     "name": "stdout",
     "output_type": "stream",
     "text": [
      "[0.5        0.55414832 0.6290371  0.69805359 0.82955854 1.03655587\n",
      " 1.28326    1.69587337]\n"
     ]
    }
   ],
   "source": [
    "print(g2)"
   ]
  }
 ],
 "metadata": {
  "kernelspec": {
   "display_name": "Python 3",
   "language": "python",
   "name": "python3"
  },
  "language_info": {
   "codemirror_mode": {
    "name": "ipython",
    "version": 3
   },
   "file_extension": ".py",
   "mimetype": "text/x-python",
   "name": "python",
   "nbconvert_exporter": "python",
   "pygments_lexer": "ipython3",
   "version": "3.13.3"
  }
 },
 "nbformat": 4,
 "nbformat_minor": 2
}
