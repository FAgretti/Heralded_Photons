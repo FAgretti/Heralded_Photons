{
 "cells": [
  {
   "cell_type": "code",
   "execution_count": null,
   "id": "bdcef064",
   "metadata": {},
   "outputs": [],
   "source": [
    "# AnalisisResultados.ipynb\n",
    "\n",
    "# === Cargar paquetes ===\n",
    "import numpy as np\n",
    "import matplotlib.pyplot as plt\n",
    "\n",
    "# === Cargar datos guardados ===\n",
    "datos = np.load('datos_simulacion.npz')\n",
    "eficiencias = datos['eficiencias']\n",
    "dark_counts = datos['dark_counts']\n",
    "g2_mapa = datos['g2']\n",
    "\n",
    "print(f\"Eficiencias: {eficiencias.shape}, Dark Counts: {dark_counts.shape}, g2 mapa: {g2_mapa.shape}\")\n",
    "\n",
    "# === Mostrar el mapa completo ===\n",
    "plt.figure(figsize=(8,6))\n",
    "plt.imshow(g2_mapa, extent=[dark_counts.min(), dark_counts.max(), eficiencias.min(), eficiencias.max()],\n",
    "           origin='lower', aspect='auto', cmap='viridis')\n",
    "plt.colorbar(label=r'$g^{(2)}(0)$')\n",
    "plt.xlabel('Cuentas oscuras (cps)')\n",
    "plt.ylabel('Eficiencia')\n",
    "plt.title(r'Mapa de $g^{(2)}(0)$')\n",
    "plt.show()\n",
    "\n",
    "# === Cortes fijos para analizar ===\n",
    "# g2 vs eficiencia para un valor fijo de dark counts\n",
    "dark_fixed = 50  # cuentas oscuras fijas\n",
    "idx_dc = np.argmin(np.abs(dark_counts - dark_fixed))\n",
    "\n",
    "plt.figure()\n",
    "plt.plot(eficiencias, g2_mapa[:, idx_dc], 'o-')\n",
    "plt.xlabel('Eficiencia')\n",
    "plt.ylabel(r'$g^{(2)}(0)$')\n",
    "plt.title(f'g2(0) vs Eficiencia a {dark_counts[idx_dc]:.0f} cps')\n",
    "plt.grid(True)\n",
    "plt.show()\n",
    "\n",
    "# g2 vs dark counts para una eficiencia fija\n",
    "eff_fixed = 0.8\n",
    "idx_eff = np.argmin(np.abs(eficiencias - eff_fixed))\n",
    "\n",
    "plt.figure()\n",
    "plt.plot(dark_counts, g2_mapa[idx_eff, :], 'o-')\n",
    "plt.xlabel('Cuentas oscuras (cps)')\n",
    "plt.ylabel(r'$g^{(2)}(0)$')\n",
    "plt.title(f'g2(0) vs Cuentas oscuras a eficiencia {eficiencias[idx_eff]:.2f}')\n",
    "plt.grid(True)\n",
    "plt.show()\n"
   ]
  }
 ],
 "metadata": {
  "language_info": {
   "name": "python"
  }
 },
 "nbformat": 4,
 "nbformat_minor": 5
}
