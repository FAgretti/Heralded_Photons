{
 "cells": [
  {
   "cell_type": "code",
   "execution_count": 1,
   "id": "2fb8b827",
   "metadata": {},
   "outputs": [],
   "source": [
    "import numpy as np\n",
    "import matplotlib.pyplot as plt"
   ]
  },
  {
   "cell_type": "code",
   "execution_count": 2,
   "id": "6c148bb1",
   "metadata": {},
   "outputs": [
    {
     "name": "stdout",
     "output_type": "stream",
     "text": [
      "1.0003776467426002\n",
      "0.8713440992352065\n",
      "0.4761290322580645\n"
     ]
    }
   ],
   "source": [
    "#la fuente tienen una distribucion poissoniana, genera pares de fotones con una tasa media de 0.1 por unidad de tiempo\n",
    "\n",
    "rate = 0.1\n",
    "time = 1000000\n",
    "window = 100\n",
    "photons1 = np.random.poisson(rate, time)\n",
    "photons2 = photons1.copy()\n",
    "\n",
    "#beam splitter 50/50\n",
    "idler_in = np.array([np.random.binomial(i, 0.5) for i in photons1])\n",
    "signal_in = np.array([np.random.binomial(i, 0.5) for i in photons2])\n",
    "\n",
    "idler_out = np.zeros(time//window)\n",
    "for i in range(time//window): idler_out[i] = np.sum(idler_in[i*window:(i+1)*window])\n",
    "\n",
    "signalsplit1 = np.array([np.random.binomial(i, 0.5) for i in signal_in])\n",
    "signalsplit2 = signal_in - signalsplit1\n",
    "\n",
    "signal_out = np.zeros(time//window)\n",
    "for i in range(time//window): signal_out[i] = np.sum(signalsplit1[i*window:(i+1)*window])\n",
    "signal_out2 = np.zeros(time//window)\n",
    "for i in range(time//window): signal_out2[i] = np.sum(signalsplit2[i*window:(i+1)*window])\n",
    "\n",
    "vector_cond = idler_out > window*rate\n",
    "signal_cond1 = signal_out > window*rate/2\n",
    "signal_cond2 = signal_out2 > window*rate/2\n",
    "g2 = np.sum(idler_out * signal_out*signal_out2) * np.sum(idler_out)/(np.sum(idler_out*signal_out)*np.sum(idler_out*signal_out))\n",
    "g2_condi = np.sum(vector_cond * signal_out*signal_out2) * np.sum(vector_cond)/(np.sum(vector_cond*signal_out)*np.sum(vector_cond*signal_out))\n",
    "g2_condtotal = np.sum(vector_cond * signal_cond1*signal_cond2) * np.sum(vector_cond)/(np.sum(vector_cond*signal_cond1)*np.sum(vector_cond*signal_cond2))\n",
    "print(g2)\n",
    "print(g2_condi)\n",
    "print(g2_condtotal)\n",
    "# print(idler_out)\n",
    "# print(vector_cond)\n"
   ]
  }
 ],
 "metadata": {
  "kernelspec": {
   "display_name": "Python 3",
   "language": "python",
   "name": "python3"
  },
  "language_info": {
   "codemirror_mode": {
    "name": "ipython",
    "version": 3
   },
   "file_extension": ".py",
   "mimetype": "text/x-python",
   "name": "python",
   "nbconvert_exporter": "python",
   "pygments_lexer": "ipython3",
   "version": "3.13.7"
  }
 },
 "nbformat": 4,
 "nbformat_minor": 5
}
