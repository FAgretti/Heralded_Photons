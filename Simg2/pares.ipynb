{
 "cells": [
  {
   "cell_type": "code",
   "execution_count": 1,
   "id": "b398bd1e",
   "metadata": {},
   "outputs": [],
   "source": [
    "import numpy as np\n",
    "import matplotlib.pyplot as plt"
   ]
  },
  {
   "cell_type": "code",
   "execution_count": 2,
   "id": "6d4f0079",
   "metadata": {},
   "outputs": [
    {
     "name": "stdout",
     "output_type": "stream",
     "text": [
      "Media =  10.0118 Varianza =  10.020460759999999\n",
      "Media camino 1 =  5.0169 Varianza camino 1 =  5.05581439\n",
      "Media camino 2 =  5.0251 Varianza camino 2 =  5.14806999\n"
     ]
    }
   ],
   "source": [
    "bins = 10000\n",
    "tasa = 10\n",
    "\n",
    "fotones = np.zeros((bins,2))\n",
    "\n",
    "for i in range(bins):\n",
    "    num = np.random.poisson(tasa)\n",
    "    fotones[i,0] = num\n",
    "    fotones[i,1] = num\n",
    "\n",
    "print(\"Media = \", np.mean(fotones[:,0]), \"Varianza = \", np.var(fotones[:,0]))\n",
    "\n",
    "#beam spliter + filtro\n",
    "camino1 = np.zeros(bins)\n",
    "camino2 = np.zeros(bins)\n",
    "for i in range(bins):\n",
    "    for j in range(int(fotones[i,0])):\n",
    "        if np.random.rand() < 0.5:\n",
    "            camino1[i] += 1\n",
    "    for j in range(int(fotones[i,1])):\n",
    "        if np.random.rand() < 0.5:\n",
    "            camino2[i] += 1\n",
    "\n",
    "print(\"Media camino 1 = \", np.mean(camino1), \"Varianza camino 1 = \", np.var(camino1))\n",
    "print(\"Media camino 2 = \", np.mean(camino2), \"Varianza camino 2 = \", np.var(camino2))\n",
    "\n"
   ]
  }
 ],
 "metadata": {
  "kernelspec": {
   "display_name": "Python 3",
   "language": "python",
   "name": "python3"
  },
  "language_info": {
   "codemirror_mode": {
    "name": "ipython",
    "version": 3
   },
   "file_extension": ".py",
   "mimetype": "text/x-python",
   "name": "python",
   "nbconvert_exporter": "python",
   "pygments_lexer": "ipython3",
   "version": "3.13.7"
  }
 },
 "nbformat": 4,
 "nbformat_minor": 5
}
