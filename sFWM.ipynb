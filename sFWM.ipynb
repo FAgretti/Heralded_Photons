{
 "cells": [
  {
   "cell_type": "code",
   "execution_count": null,
   "metadata": {},
   "outputs": [],
   "source": [
    "import matplotlib.pyplot as plt\n",
    "import numpy as np\n",
    "import scipy as sp"
   ]
  },
  {
   "cell_type": "code",
   "execution_count": null,
   "metadata": {},
   "outputs": [],
   "source": [
    "def cajon(VarIn,a=-0.5,b=0.5):\n",
    "    return(VarIn>=a)*(VarIn<=b)\n",
    "\n",
    "\n",
    "def tfourier(varIn,fs):\n",
    "    # Se calcula la fft de la entrada\n",
    "    varIn_tdf = np.fft.ifft(varIn)\n",
    "    varIn_tdf = np.fft.ifftshift(varIn_tdf)\n",
    "\n",
    "    # Se define el vector de frecuencias\n",
    "    sampNum = varIn.size\n",
    "    if np.remainder(sampNum,2) == 0:\n",
    "        k = np.arange(-sampNum/2,sampNum/2,1)\n",
    "    else:\n",
    "        k = np.arange(-(sampNum-1)/2-1,(sampNum-1)/2,1)    \n",
    "    fk = k*fs/sampNum\n",
    "\n",
    "    # Se escala el espectro\n",
    "    varOut = varIn_tdf*sampNum/fs\n",
    "    return varOut,fk\n",
    "\n",
    "\n",
    "def itfourier(varIn,fs,sampnum):\n",
    "    return np.fft.fft(np.fft.fftshift(varIn*fs))/sampnum\n",
    "\n",
    "def gauss(x,mu,sigma,p0):\n",
    "    return np.sqrt(p0)*np.exp(-0.5*((x-mu)/sigma)**2)\n",
    "\n",
    "def supergauss(x,mu,sigma,p0,m):\n",
    "    return np.sqrt(p0)*np.exp(-0.5*((x-mu)/sigma)**2*m)\n",
    "\n",
    "def hypsec(x,a,b,p0):\n",
    "    return np.sqrt(p0)/(np.cosh(a*x+b))\n"
   ]
  },
  {
   "cell_type": "code",
   "execution_count": null,
   "metadata": {},
   "outputs": [],
   "source": [
    "def stepFourier(x,t,h,Ts,gamma,beta2,alpha,I0):\n",
    "    I = np.zeros((len(x),len(t)),dtype=complex)\n",
    "    #defino la matriz de intensidad en el tiempo inicial\n",
    "    I[0,:] = I0\n",
    "\n",
    "    for j in range(1,len(x)):\n",
    "        Atf,frec = tfourier(I[j-1,:],1/Ts)\n",
    "        Btf = np.exp((1j * (beta2/2) * ((2*np.pi*frec)**2) -0.5*alpha) *h) *Atf\n",
    "        B = itfourier(Btf,1/Ts,len(t))\n",
    "        I[j,:]=B*np.exp((1j*gamma*np.abs(I[j-1,:])**2)*h)\n",
    "        plt.plot(t,np.abs(I[j]**2))\n",
    "\n",
    "    return I"
   ]
  },
  {
   "cell_type": "markdown",
   "metadata": {},
   "source": [
    "interaction picture"
   ]
  }
 ],
 "metadata": {
  "language_info": {
   "name": "python"
  }
 },
 "nbformat": 4,
 "nbformat_minor": 2
}
